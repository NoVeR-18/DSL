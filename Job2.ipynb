{
  "nbformat": 4,
  "nbformat_minor": 0,
  "metadata": {
    "colab": {
      "name": "Job2.ipynb",
      "provenance": [],
      "authorship_tag": "ABX9TyMDUjNk7TTbg2qVgY6y/xrQ",
      "include_colab_link": true
    },
    "kernelspec": {
      "name": "python3",
      "display_name": "Python 3"
    },
    "language_info": {
      "name": "python"
    }
  },
  "cells": [
    {
      "cell_type": "markdown",
      "metadata": {
        "id": "view-in-github",
        "colab_type": "text"
      },
      "source": [
        "<a href=\"https://colab.research.google.com/github/NoVeR-18/DSL/blob/main/Job2.ipynb\" target=\"_parent\"><img src=\"https://colab.research.google.com/assets/colab-badge.svg\" alt=\"Open In Colab\"/></a>"
      ]
    },
    {
      "cell_type": "code",
      "metadata": {
        "id": "8xhZo-wAW3V2"
      },
      "source": [
        "def productiveSymbols(grammar) -> set:\n",
        "    productive = set()\n",
        "    prev_count = None\n",
        "    def unproductiveSymbols(rule: str) -> bool:\n",
        "        return all(map(lambda s: s in productive or s in grammar['toks'], rule))\n",
        "    while len(productive) != prev_count:\n",
        "        prev_count = len(productive)\n",
        "        productive_symbols = [var for var, definition in grammar['vars'].items() if\n",
        "                              list(filter(unproductiveSymbols, definition)) != []]\n",
        "        productive = productive.union(set(productive_symbols))\n",
        "\n",
        "    return productive\n",
        "\n",
        "\n",
        "def reachableSymbols(grammar) -> set:\n",
        "    reachable = {grammar['hvar']}\n",
        "    prev_count = None\n",
        "    while len(reachable) != prev_count:\n",
        "        prev_count = len(reachable)\n",
        "        for var, definition in grammar['vars'].items():\n",
        "            if var in reachable:\n",
        "                for rule in definition:\n",
        "                    reachable = reachable.union(set(filter(lambda s: s not in grammar['toks'], rule)))\n",
        "    return reachable\n",
        "from copy import deepcopy\n",
        "\n",
        "\n",
        "\"\"\"функції для прибирання сторонніх нетерміналів\"\"\"\n",
        "\n",
        "def removeSymbols(grammar):\n",
        "    grammar_copy = deepcopy(grammar)\n",
        "    productive = productiveSymbols(grammar)\n",
        "    grammar_copy['vars'] = {\n",
        "        var: [rule for rule in definition if all(map(lambda s: s in productive or s in grammar['toks'], rule))]\n",
        "        for var, definition in grammar_copy['vars'].items()}\n",
        "\n",
        "    reachable = reachableSymbols(grammar_copy)\n",
        "    grammar_copy['vars'] = {\n",
        "        var: [rule for rule in definition if all(map(lambda s: s in reachable or s in grammar['toks'], rule))]\n",
        "        for var, definition in grammar_copy['vars'].items() if var in reachable}\n",
        "    return grammar_copy\n",
        "\n",
        "\n",
        "\"\"\"функції для визначення зникаючих символів \"\"\"\n",
        "\n",
        "\n",
        "def nullableSymbols(grammar) -> set:\n",
        "    nullable = set()\n",
        "    prev_count = None\n",
        "    def allNullableSymbols(rule: str) -> bool:\n",
        "        return all(map(lambda s: s in nullable or s == (0, ''), rule))\n",
        "    while len(nullable) != prev_count:\n",
        "        prev_count = len(nullable)\n",
        "        nullable_symbols = [var for var, definition in grammar['vars'].items()\n",
        "                            if list(filter(allNullableSymbols, definition)) != []]\n",
        "        nullable = nullable.union(set(nullable_symbols))\n",
        "    return nullable\n",
        "\n",
        "\n",
        "grammar = {\n",
        "    'toks': {(0, ''), (1, 'a'), (2, 'b'), (3, 'c')},\n",
        "    'vars': {\n",
        "        'S': [[(1, 'a'), 'M'],\n",
        "              [(1, 'a'), 'S'],\n",
        "              ['P']],\n",
        "        'K': [[(3, 'c')],\n",
        "              [(0, '')]],\n",
        "        'M': [['M', 'P']],\n",
        "        \n",
        "        'P': [[(3, 'c')]]\n",
        "    },\n",
        "    'hvar': 'S'\n",
        "}\n",
        "print(removeSymbols(grammar))\n",
        "print('Nullable symbols ' + str(nullableSymbols(grammar)))\n"
      ],
      "execution_count": null,
      "outputs": []
    }
  ]
}
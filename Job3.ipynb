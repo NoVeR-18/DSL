def First(toks, Vars, Hvars):
  result = set()
  for rule in Vars[Hvars]:
    if rule[0] in toks:
      result.add(rule[0])
    else:
      result |= First(toks, Vars, rule[0])
  return result


def Follow(toks, Vars, Hvars):
    productions = []
    for nt, production in Vars.items():
        for rule in production:
            if Hvars in rule:
                productions.append((nt, rule))
    result = set()
    for p in productions:
        lHvars, rHvars = p
        idx = rHvars.index(Hvars)
        if idx + 1 < len(rHvars):
            next_symbol = rHvars[idx + 1]
            if next_symbol in toks:
                result.add(next_symbol)
            else:
                result |= First(toks, Vars, next_symbol)
        else:
            if lHvars != Hvars:
                result |= Follow(toks, Vars, lHvars)
    return result


grammar = {
    'toks': {(0, ''), (1, 'a'), (2, 'b'), (3, 'c')},
    'vars': {
        'S': [[(1, 'a'), 'M'],
              [(1, 'a'), 'S'],
              ['P']],
        'K': [[(3, 'c')],
              [(0, '')]],
        'M': [['M', 'P']],

        'P': [[(3, 'c')]]
    },
    'hvar': 'S'
}
print(Follow(grammar['toks'], grammar['vars'], grammar['hvar']))
#set()
print(First(grammar['toks'], grammar['vars'], grammar['hvar']))
#{(1, 'a'), (3, 'c')}

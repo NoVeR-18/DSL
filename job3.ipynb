{
  "nbformat": 4,
  "nbformat_minor": 0,
  "metadata": {
    "colab": {
      "name": "job3.ipynb",
      "provenance": [],
      "authorship_tag": "ABX9TyOWlWiCHqrOwDbss5Ayh5ic",
      "include_colab_link": true
    },
    "kernelspec": {
      "name": "python3",
      "display_name": "Python 3"
    },
    "language_info": {
      "name": "python"
    }
  },
  "cells": [
    {
      "cell_type": "markdown",
      "metadata": {
        "id": "view-in-github",
        "colab_type": "text"
      },
      "source": [
        "<a href=\"https://colab.research.google.com/github/NoVeR-18/DSL/blob/main/job3.ipynb\" target=\"_parent\"><img src=\"https://colab.research.google.com/assets/colab-badge.svg\" alt=\"Open In Colab\"/></a>"
      ]
    },
    {
      "cell_type": "code",
      "metadata": {
        "id": "5H2ElDoEOO4s"
      },
      "source": [
        "def First(toks, Vars, Hvars):\n",
        "  result = set()\n",
        "  for rule in Vars[Hvars]:\n",
        "    if rule[0] in toks:\n",
        "      result.add(rule[0])\n",
        "    else:\n",
        "      result |= First(toks, Vars, rule[0])\n",
        "  return result\n",
        "\n",
        "\n",
        "def Follow(toks, Vars, Hvars):\n",
        "    productions = []\n",
        "    for nt, production in Vars.items():\n",
        "        for rule in production:\n",
        "            if Hvars in rule:\n",
        "                productions.append((nt, rule))\n",
        "    result = set()\n",
        "    for p in productions:\n",
        "        lHvars, rHvars = p\n",
        "        idx = rHvars.index(Hvars)\n",
        "        if idx + 1 < len(rHvars):\n",
        "            next_symbol = rHvars[idx + 1]\n",
        "            if next_symbol in toks:\n",
        "                result.add(next_symbol)\n",
        "            else:\n",
        "                result |= First(toks, Vars, next_symbol)\n",
        "        else:\n",
        "            if lHvars != Hvars:\n",
        "                result |= Follow(toks, Vars, lHvars)\n",
        "    return result\n",
        "\n",
        "\n",
        "grammar = {\n",
        "    'toks': {(0, ''), (1, 'a'), (2, 'b'), (3, 'c')},\n",
        "    'vars': {\n",
        "        'S': [[(1, 'a'), 'M'],\n",
        "              [(1, 'a'), 'S'],\n",
        "              ['P']],\n",
        "        'K': [[(3, 'c')],\n",
        "              [(0, '')]],\n",
        "        'M': [['M', 'P']],\n",
        "\n",
        "        'P': [[(3, 'c')]]\n",
        "    },\n",
        "    'hvar': 'S'\n",
        "}\n",
        "print(Follow(grammar['toks'], grammar['vars'], grammar['hvar']))\n",
        "#set()\n",
        "print(First(grammar['toks'], grammar['vars'], grammar['hvar']))\n",
        "#{(1, 'a'), (3, 'c')}"
      ],
      "execution_count": null,
      "outputs": []
    }
  ]
}